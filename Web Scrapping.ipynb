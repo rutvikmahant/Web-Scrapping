{
 "cells": [
  {
   "cell_type": "code",
   "execution_count": 4,
   "id": "e28ba4b9-b3c2-4a58-8e53-03622454226f",
   "metadata": {},
   "outputs": [],
   "source": [
    "import requests\n",
    "from bs4 import BeautifulSoup as bs\n",
    "from urllib.request import urlopen as uReq\n",
    "import logging"
   ]
  },
  {
   "cell_type": "code",
   "execution_count": 31,
   "id": "0c9174d3-7c9a-4e1d-a00e-0773749d18ca",
   "metadata": {},
   "outputs": [],
   "source": [
    "flipkart_url=\"https://www.flipkart.com/search?q=\" + \"redmi10\""
   ]
  },
  {
   "cell_type": "code",
   "execution_count": 32,
   "id": "e486e5d3-a8bc-4e4f-8a14-c0f17f349c6b",
   "metadata": {},
   "outputs": [
    {
     "data": {
      "text/plain": [
       "'https://www.flipkart.com/search?q=redmi10'"
      ]
     },
     "execution_count": 32,
     "metadata": {},
     "output_type": "execute_result"
    }
   ],
   "source": [
    "flipkart_url"
   ]
  },
  {
   "cell_type": "code",
   "execution_count": 33,
   "id": "32f890df-f10c-46f3-8670-a43b39091822",
   "metadata": {},
   "outputs": [],
   "source": [
    "urlclient = uReq(flipkart_url)"
   ]
  },
  {
   "cell_type": "code",
   "execution_count": 34,
   "id": "698df762-f5ff-4da4-b151-48f2dddbbf60",
   "metadata": {},
   "outputs": [
    {
     "data": {
      "text/plain": [
       "<http.client.HTTPResponse at 0x7f455008aad0>"
      ]
     },
     "execution_count": 34,
     "metadata": {},
     "output_type": "execute_result"
    }
   ],
   "source": [
    "urlclient"
   ]
  },
  {
   "cell_type": "code",
   "execution_count": 35,
   "id": "23c9b449-f1ff-4146-bfe8-25c083f3c924",
   "metadata": {},
   "outputs": [],
   "source": [
    "flipkart_page = urlclient.read()"
   ]
  },
  {
   "cell_type": "code",
   "execution_count": 36,
   "id": "da307e31-0e2a-4b20-b2b4-fe6ae7bc375b",
   "metadata": {},
   "outputs": [],
   "source": [
    "flipkart_html=bs(flipkart_page,'html.parser')"
   ]
  },
  {
   "cell_type": "code",
   "execution_count": 37,
   "id": "7121d6b8-44bf-44a8-b906-4f89a8146f98",
   "metadata": {},
   "outputs": [
    {
     "data": {
      "text/plain": [
       "'https://www.flipkart.com/apple-iphone-11-white-128-gb/p/itme32df47ea6742?pid=MOBFWQ6B7KKRXDDS&lid=LSTMOBFWQ6B7KKRXDDSULUZ0N&marketplace=FLIPKART&q=iphone11&store=tyy%2F4io&srno=s_1_1&otracker=AS_Query_HistoryAutoSuggest_3_0_na_na_na&otracker1=AS_Query_HistoryAutoSuggest_3_0_na_na_na&fm=Search&iid=d876448a-5fb8-489f-9498-c64e7fb12e83.MOBFWQ6B7KKRXDDS.SEARCH&ppt=hp&ppn=homepage&ssid=yt962c9xe80000001679812431512&qH=d6db477051465f9a'"
      ]
     },
     "execution_count": 37,
     "metadata": {},
     "output_type": "execute_result"
    }
   ],
   "source": [
    "\"https://www.flipkart.com/\"+\"apple-iphone-11-white-128-gb/p/itme32df47ea6742?pid=MOBFWQ6B7KKRXDDS&lid=LSTMOBFWQ6B7KKRXDDSULUZ0N&marketplace=FLIPKART&q=iphone11&store=tyy%2F4io&srno=s_1_1&otracker=AS_Query_HistoryAutoSuggest_3_0_na_na_na&otracker1=AS_Query_HistoryAutoSuggest_3_0_na_na_na&fm=Search&iid=d876448a-5fb8-489f-9498-c64e7fb12e83.MOBFWQ6B7KKRXDDS.SEARCH&ppt=hp&ppn=homepage&ssid=yt962c9xe80000001679812431512&qH=d6db477051465f9a\""
   ]
  },
  {
   "cell_type": "code",
   "execution_count": 38,
   "id": "01a0c676-4354-4d8a-a735-e1a5fbddbcc0",
   "metadata": {},
   "outputs": [],
   "source": [
    "bigbox = flipkart_html.findAll(\"div\",{\"class\":\"_1AtVbE col-12-12\"})"
   ]
  },
  {
   "cell_type": "code",
   "execution_count": 39,
   "id": "0748f02f-ec51-46cf-8c53-be7ba3a1344d",
   "metadata": {},
   "outputs": [
    {
     "data": {
      "text/plain": [
       "30"
      ]
     },
     "execution_count": 39,
     "metadata": {},
     "output_type": "execute_result"
    }
   ],
   "source": [
    "len(bigbox)"
   ]
  },
  {
   "cell_type": "code",
   "execution_count": 40,
   "id": "dbbe913a-356c-4363-8af4-5bbbbd9e892b",
   "metadata": {},
   "outputs": [],
   "source": [
    "del bigbox[0:3]"
   ]
  },
  {
   "cell_type": "code",
   "execution_count": 41,
   "id": "d0cc251a-17a7-4dec-9deb-0e6c6db0ecfc",
   "metadata": {},
   "outputs": [],
   "source": [
    "productlink = \"https://www.flipkart.com\"+bigbox[3].div.div.div.a['href']"
   ]
  },
  {
   "cell_type": "code",
   "execution_count": 42,
   "id": "e3ebc515-edb1-4c7f-b2cc-00a483cf7aff",
   "metadata": {},
   "outputs": [],
   "source": [
    "product_request = requests.get(productlink)"
   ]
  },
  {
   "cell_type": "code",
   "execution_count": 43,
   "id": "87f81846-a8e3-4faf-ad5f-5ad6e2b60ab8",
   "metadata": {},
   "outputs": [
    {
     "data": {
      "text/plain": [
       "'https://www.flipkart.com/redmi-10-sunrise-orange-64-gb/p/itmae4c7ad2665f3?pid=MOBGMPHF9TDM2MM3&lid=LSTMOBGMPHF9TDM2MM39RM7JR&marketplace=FLIPKART&q=redmi10&store=tyy%2F4io&srno=s_1_5&otracker=search&fm=organic&iid=bac2d21d-ba79-47d7-b941-4e15fef3db5a.MOBGMPHF9TDM2MM3.SEARCH&ppt=None&ppn=None&ssid=kajf9q1feo0000001679850766598&qH=564aedd694e34df8'"
      ]
     },
     "execution_count": 43,
     "metadata": {},
     "output_type": "execute_result"
    }
   ],
   "source": [
    "productlink"
   ]
  },
  {
   "cell_type": "code",
   "execution_count": 44,
   "id": "cbe7076e-e0a5-4eaf-8813-1a77366c13d1",
   "metadata": {},
   "outputs": [],
   "source": [
    "product_html=bs(product_request.text,'html.parser')"
   ]
  },
  {
   "cell_type": "code",
   "execution_count": 45,
   "id": "515362c6-9a92-4fa6-8cbd-56bd2e11d46e",
   "metadata": {},
   "outputs": [],
   "source": [
    "comment_box=product_html.findAll(\"div\",{\"class\":\"_16PBlm\"})"
   ]
  },
  {
   "cell_type": "code",
   "execution_count": 46,
   "id": "f3c8926a-edd2-4cc9-b248-5a6ea8549402",
   "metadata": {},
   "outputs": [
    {
     "data": {
      "text/plain": [
       "11"
      ]
     },
     "execution_count": 46,
     "metadata": {},
     "output_type": "execute_result"
    }
   ],
   "source": [
    "len(comment_box)"
   ]
  },
  {
   "cell_type": "code",
   "execution_count": 47,
   "id": "35d51514-b14d-49b5-9fac-8ee120312cc1",
   "metadata": {},
   "outputs": [
    {
     "name": "stdout",
     "output_type": "stream",
     "text": [
      "Rupam Dhara\n",
      "Soumadip Mondal\n",
      "Kuldeep Singh\n",
      "Nilesh  Gaidhani\n",
      "Rahul Dhochak\n",
      "Flipkart Customer\n",
      "nitish gaurav\n",
      "Deepak kumar Shrivastava\n",
      "Amal Varghese\n",
      "Sharda  Verma\n"
     ]
    },
    {
     "ename": "AttributeError",
     "evalue": "'NoneType' object has no attribute 'div'",
     "output_type": "error",
     "traceback": [
      "\u001b[0;31m---------------------------------------------------------------------------\u001b[0m",
      "\u001b[0;31mAttributeError\u001b[0m                            Traceback (most recent call last)",
      "Cell \u001b[0;32mIn[47], line 2\u001b[0m\n\u001b[1;32m      1\u001b[0m \u001b[38;5;28;01mfor\u001b[39;00m i \u001b[38;5;129;01min\u001b[39;00m comment_box:\n\u001b[0;32m----> 2\u001b[0m     \u001b[38;5;28mprint\u001b[39m(\u001b[43mi\u001b[49m\u001b[38;5;241;43m.\u001b[39;49m\u001b[43mdiv\u001b[49m\u001b[38;5;241;43m.\u001b[39;49m\u001b[43mdiv\u001b[49m\u001b[38;5;241m.\u001b[39mfind_all(\u001b[38;5;124m'\u001b[39m\u001b[38;5;124mp\u001b[39m\u001b[38;5;124m'\u001b[39m,{\u001b[38;5;124m\"\u001b[39m\u001b[38;5;124mclass\u001b[39m\u001b[38;5;124m\"\u001b[39m:\u001b[38;5;124m\"\u001b[39m\u001b[38;5;124m_2sc7ZR _2V5EHH\u001b[39m\u001b[38;5;124m\"\u001b[39m})[\u001b[38;5;241m0\u001b[39m]\u001b[38;5;241m.\u001b[39mtext)\n",
      "\u001b[0;31mAttributeError\u001b[0m: 'NoneType' object has no attribute 'div'"
     ]
    }
   ],
   "source": [
    "for i in comment_box:\n",
    "    print(i.div.div.find_all('p',{\"class\":\"_2sc7ZR _2V5EHH\"})[0].text)"
   ]
  },
  {
   "cell_type": "code",
   "execution_count": 48,
   "id": "aadcebcb-8ef0-4ed0-b4b2-ddaca745c0ee",
   "metadata": {},
   "outputs": [
    {
     "name": "stdout",
     "output_type": "stream",
     "text": [
      "Fabulous!\n",
      "Wonderful\n",
      "Simply awesome\n",
      "Good quality product\n",
      "Wonderful\n",
      "Best in the market!\n",
      "Wonderful\n",
      "Brilliant\n",
      "Wonderful\n",
      "Value-for-money\n"
     ]
    },
    {
     "ename": "AttributeError",
     "evalue": "'NoneType' object has no attribute 'div'",
     "output_type": "error",
     "traceback": [
      "\u001b[0;31m---------------------------------------------------------------------------\u001b[0m",
      "\u001b[0;31mAttributeError\u001b[0m                            Traceback (most recent call last)",
      "Cell \u001b[0;32mIn[48], line 2\u001b[0m\n\u001b[1;32m      1\u001b[0m \u001b[38;5;28;01mfor\u001b[39;00m i \u001b[38;5;129;01min\u001b[39;00m comment_box:\n\u001b[0;32m----> 2\u001b[0m     \u001b[38;5;28mprint\u001b[39m(\u001b[43mi\u001b[49m\u001b[38;5;241;43m.\u001b[39;49m\u001b[43mdiv\u001b[49m\u001b[38;5;241;43m.\u001b[39;49m\u001b[43mdiv\u001b[49m\u001b[38;5;241m.\u001b[39mdiv\u001b[38;5;241m.\u001b[39mp\u001b[38;5;241m.\u001b[39mtext)\n",
      "\u001b[0;31mAttributeError\u001b[0m: 'NoneType' object has no attribute 'div'"
     ]
    }
   ],
   "source": [
    "for i in comment_box:\n",
    "    print(i.div.div.div.p.text)"
   ]
  },
  {
   "cell_type": "code",
   "execution_count": 49,
   "id": "a98af739",
   "metadata": {},
   "outputs": [
    {
     "name": "stdout",
     "output_type": "stream",
     "text": [
      "Good phone in this price range, battery backup good, camera ok ok, and performance very very good 🔥 I am mi love And very fast delivery Flipkart, thanks\n",
      "Very nice mobile 🥳😊Performance is very good 😊Camera quality good 😊Good zooming colour boost ✨I love it😘Thank you Flipkart 😇✨\n",
      "Good phone very nice working and good performance nice look\n",
      "This phone camera is not good but you can use if you are a first phone buyerBattery is awesome after heavy use also not need to charge in a day Display also impresive in this segment HD+ 6.7inch quality was goodSpeaker is loud and clear no any problemPerformance is sometimes not good you can play candy crush game but frame drops are so high, I think I am using right now 90hz panel bcoz i feel poco M4 pro .Now your i first smartphone buyer this phone is great\n",
      "Mobile is best in this price rangeProcessor Qualcomm Snapdragon 680 is really powerful for multitasking and gamingCamera 📷 Night mode is amazing 🤩Battery life is outstanding fabulous performanceReal 6000 MahOverall excellent performance5 star for Flipkart services\n",
      "Better backup osm ans camere clarity is very good 😊 i am happy for this product bec this product is excellent and this budget price is good  very happy 😁\n",
      "I m a regular customer of Mi ...redmi 10is awesome 👍. It's charging is very fast ...i m giving this review after 2 months ....i m satisfied with this ...plz go for this guys ..really awesome 👍 products...thanks Flipkart\n",
      "Awesome 😎 Product Redmi has made cool phone this phone camera clicks a photo with HDR which will rock . And performance is the main thing in redmi . Front camera is 🤳 5 mega pixel but comes like 18 mega pixel. Although Redmi 10 is rocking phone.\n",
      "Faster delivery,The Smartphone is budget and has spec that is Value for money, It is balanced in that area. Performance is good for the price. Battery is also good. But the software or UI experience is mostly trash.\n",
      "Deducted 1 star coz of late delivery. Talking about the phone,in such budget, it's amazing, it's providing much more features than other brands. Big screen,sturdy plastic body, back cam is also awesome. Front camera is not very excellent but it's ok ok in this price. It has the big battery so also takes much time to charge. The charger provided in the box is kind of normal not fast charger. Display resolution and quality is good. Overall this phone is good if you are on a budget. Only downs...\n"
     ]
    },
    {
     "ename": "AttributeError",
     "evalue": "'NoneType' object has no attribute 'div'",
     "output_type": "error",
     "traceback": [
      "\u001b[0;31m---------------------------------------------------------------------------\u001b[0m",
      "\u001b[0;31mAttributeError\u001b[0m                            Traceback (most recent call last)",
      "Cell \u001b[0;32mIn[49], line 2\u001b[0m\n\u001b[1;32m      1\u001b[0m \u001b[38;5;28;01mfor\u001b[39;00m i \u001b[38;5;129;01min\u001b[39;00m comment_box:\n\u001b[0;32m----> 2\u001b[0m     \u001b[38;5;28mprint\u001b[39m(\u001b[43mi\u001b[49m\u001b[38;5;241;43m.\u001b[39;49m\u001b[43mdiv\u001b[49m\u001b[38;5;241;43m.\u001b[39;49m\u001b[43mdiv\u001b[49m\u001b[38;5;241m.\u001b[39mfind_all(\u001b[38;5;124m'\u001b[39m\u001b[38;5;124mdiv\u001b[39m\u001b[38;5;124m'\u001b[39m,{\u001b[38;5;124m'\u001b[39m\u001b[38;5;124mclass\u001b[39m\u001b[38;5;124m'\u001b[39m:\u001b[38;5;124m'\u001b[39m\u001b[38;5;124m'\u001b[39m})[\u001b[38;5;241m0\u001b[39m]\u001b[38;5;241m.\u001b[39mdiv\u001b[38;5;241m.\u001b[39mtext)\n",
      "\u001b[0;31mAttributeError\u001b[0m: 'NoneType' object has no attribute 'div'"
     ]
    }
   ],
   "source": [
    "for i in comment_box:\n",
    "    print(i.div.div.find_all('div',{'class':''})[0].div.text)"
   ]
  },
  {
   "cell_type": "code",
   "execution_count": 50,
   "id": "1aae06e1-24b9-4321-8177-0a6a66c5c734",
   "metadata": {},
   "outputs": [
    {
     "name": "stdout",
     "output_type": "stream",
     "text": [
      "https://www.flipkart.com/redmi-10-shadow-black-64-gb/p/itm0f35cd8b62294?pid=MOBGMPHFVU6NNDH5&lid=LSTMOBGMPHFVU6NNDH5AK0YVP&marketplace=FLIPKART&q=redmi10&store=tyy%2F4io&srno=s_1_2&otracker=search&fm=organic&iid=bac2d21d-ba79-47d7-b941-4e15fef3db5a.MOBGMPHFVU6NNDH5.SEARCH&ppt=None&ppn=None&ssid=kajf9q1feo0000001679850766598&qH=564aedd694e34df8\n",
      "https://www.flipkart.com/redmi-10-midnight-black-64-gb/p/itmd93641e4ebb47?pid=MOBGC9GYEBH3GZ4E&lid=LSTMOBGC9GYEBH3GZ4E44YY0L&marketplace=FLIPKART&q=redmi10&store=tyy%2F4io&srno=s_1_3&otracker=search&fm=organic&iid=bac2d21d-ba79-47d7-b941-4e15fef3db5a.MOBGC9GYEBH3GZ4E.SEARCH&ppt=None&ppn=None&ssid=kajf9q1feo0000001679850766598&qH=564aedd694e34df8\n",
      "https://www.flipkart.com/redmi-10-caribbean-green-64-gb/p/itmbfb8dfcdd6e10?pid=MOBGC9GYQGGKWEU3&lid=LSTMOBGC9GYQGGKWEU3SLBNSD&marketplace=FLIPKART&q=redmi10&store=tyy%2F4io&spotlightTagId=BestsellerId_tyy%2F4io&srno=s_1_4&otracker=search&fm=organic&iid=bac2d21d-ba79-47d7-b941-4e15fef3db5a.MOBGC9GYQGGKWEU3.SEARCH&ppt=None&ppn=None&ssid=kajf9q1feo0000001679850766598&qH=564aedd694e34df8\n",
      "https://www.flipkart.com/redmi-10-sunrise-orange-64-gb/p/itmae4c7ad2665f3?pid=MOBGMPHF9TDM2MM3&lid=LSTMOBGMPHF9TDM2MM39RM7JR&marketplace=FLIPKART&q=redmi10&store=tyy%2F4io&srno=s_1_5&otracker=search&fm=organic&iid=bac2d21d-ba79-47d7-b941-4e15fef3db5a.MOBGMPHF9TDM2MM3.SEARCH&ppt=None&ppn=None&ssid=kajf9q1feo0000001679850766598&qH=564aedd694e34df8\n",
      "https://www.flipkart.com/redmi-10-midnight-black-128-gb/p/itm68b3d276eda8c?pid=MOBGC9GYX2QQXKWK&lid=LSTMOBGC9GYX2QQXKWKH9UCNR&marketplace=FLIPKART&q=redmi10&store=tyy%2F4io&srno=s_1_6&otracker=search&fm=organic&iid=bac2d21d-ba79-47d7-b941-4e15fef3db5a.MOBGC9GYX2QQXKWK.SEARCH&ppt=None&ppn=None&ssid=kajf9q1feo0000001679850766598&qH=564aedd694e34df8\n",
      "https://www.flipkart.com/redmi-10-caribbean-green-128-gb/p/itm2389889c22bf0?pid=MOBGC9GYQVJHKH76&lid=LSTMOBGC9GYQVJHKH76IXAL5V&marketplace=FLIPKART&q=redmi10&store=tyy%2F4io&srno=s_1_7&otracker=search&fm=organic&iid=bac2d21d-ba79-47d7-b941-4e15fef3db5a.MOBGC9GYQVJHKH76.SEARCH&ppt=None&ppn=None&ssid=kajf9q1feo0000001679850766598&qH=564aedd694e34df8\n",
      "https://www.flipkart.com/redmi-10-pacific-blue-128-gb/p/itmeee56f3526c69?pid=MOBGC9GYMXA2XAH4&lid=LSTMOBGC9GYMXA2XAH4QEHS0T&marketplace=FLIPKART&q=redmi10&store=tyy%2F4io&srno=s_1_8&otracker=search&fm=organic&iid=bac2d21d-ba79-47d7-b941-4e15fef3db5a.MOBGC9GYMXA2XAH4.SEARCH&ppt=None&ppn=None&ssid=kajf9q1feo0000001679850766598&qH=564aedd694e34df8\n",
      "https://www.flipkart.com/redmi-10a-slate-grey-64-gb/p/itmab0d50e81ec2e?pid=MOBGHTDUF7TGZSKF&lid=LSTMOBGHTDUF7TGZSKFESARVQ&marketplace=FLIPKART&q=redmi10&store=tyy%2F4io&srno=s_1_9&otracker=search&fm=organic&iid=bac2d21d-ba79-47d7-b941-4e15fef3db5a.MOBGHTDUF7TGZSKF.SEARCH&ppt=None&ppn=None&ssid=kajf9q1feo0000001679850766598&qH=564aedd694e34df8\n",
      "https://www.flipkart.com/redmi-10a-sea-blue-32-gb/p/itmab0d50e81ec2e?pid=MOBGHFFT4RWXDEPA&lid=LSTMOBGHFFT4RWXDEPARNW0IX&marketplace=FLIPKART&q=redmi10&store=tyy%2F4io&srno=s_1_10&otracker=search&fm=organic&iid=bac2d21d-ba79-47d7-b941-4e15fef3db5a.MOBGHFFT4RWXDEPA.SEARCH&ppt=None&ppn=None&ssid=kajf9q1feo0000001679850766598&qH=564aedd694e34df8\n",
      "https://www.flipkart.com/redmi-10a-charcoal-black-64-gb/p/itmab0d50e81ec2e?pid=MOBGHFFTYB6GYY4Y&lid=LSTMOBGHFFTYB6GYY4YEM0XAT&marketplace=FLIPKART&q=redmi10&store=tyy%2F4io&srno=s_1_11&otracker=search&fm=organic&iid=bac2d21d-ba79-47d7-b941-4e15fef3db5a.MOBGHFFTYB6GYY4Y.SEARCH&ppt=None&ppn=None&ssid=kajf9q1feo0000001679850766598&qH=564aedd694e34df8\n",
      "https://www.flipkart.com/redmi-10a-slate-grey-32-gb/p/itmab0d50e81ec2e?pid=MOBGHFFTQRCQYYNM&lid=LSTMOBGHFFTQRCQYYNMWEZP0X&marketplace=FLIPKART&q=redmi10&store=tyy%2F4io&srno=s_1_12&otracker=search&fm=organic&iid=bac2d21d-ba79-47d7-b941-4e15fef3db5a.MOBGHFFTQRCQYYNM.SEARCH&ppt=None&ppn=None&ssid=kajf9q1feo0000001679850766598&qH=564aedd694e34df8\n",
      "https://www.flipkart.com/redmi-10a-charcoal-black-32-gb/p/itmab0d50e81ec2e?pid=MOBGDRGHYWAAZDVD&lid=LSTMOBGDRGHYWAAZDVDR2BZJX&marketplace=FLIPKART&q=redmi10&store=tyy%2F4io&srno=s_1_13&otracker=search&fm=organic&iid=bac2d21d-ba79-47d7-b941-4e15fef3db5a.MOBGDRGHYWAAZDVD.SEARCH&ppt=None&ppn=None&ssid=kajf9q1feo0000001679850766598&qH=564aedd694e34df8\n",
      "https://www.flipkart.com/redmi-10-power-power-black-128-gb/p/itm97f5d2ec83588?pid=MOBGHDXFYKKZFZGV&lid=LSTMOBGHDXFYKKZFZGV6DZ6HM&marketplace=FLIPKART&q=redmi10&store=tyy%2F4io&srno=s_1_14&otracker=search&fm=organic&iid=bac2d21d-ba79-47d7-b941-4e15fef3db5a.MOBGHDXFYKKZFZGV.SEARCH&ppt=None&ppn=None&ssid=kajf9q1feo0000001679850766598&qH=564aedd694e34df8\n",
      "https://www.flipkart.com/redmi-10a-sea-blue-64-gb/p/itmab0d50e81ec2e?pid=MOBGHFFTNBSKEFDU&lid=LSTMOBGHFFTNBSKEFDUUWPMBA&marketplace=FLIPKART&q=redmi10&store=tyy%2F4io&srno=s_1_15&otracker=search&fm=organic&iid=bac2d21d-ba79-47d7-b941-4e15fef3db5a.MOBGHFFTNBSKEFDU.SEARCH&ppt=None&ppn=None&ssid=kajf9q1feo0000001679850766598&qH=564aedd694e34df8\n",
      "https://www.flipkart.com/redmi-note-11-space-black-64-gb/p/itme81102bba3838?pid=MOBGHDXJQFQEF2R5&lid=LSTMOBGHDXJQFQEF2R5K54UNN&marketplace=FLIPKART&q=redmi10&store=tyy%2F4io&srno=s_1_16&otracker=search&fm=organic&iid=bac2d21d-ba79-47d7-b941-4e15fef3db5a.MOBGHDXJQFQEF2R5.SEARCH&ppt=None&ppn=None&ssid=kajf9q1feo0000001679850766598&qH=564aedd694e34df8\n",
      "https://www.flipkart.com/redmi-note-11-space-black-128-gb/p/itme81102bba3838?pid=MOBGHFFTSH6QXG5K&lid=LSTMOBGHFFTSH6QXG5KN087XY&marketplace=FLIPKART&q=redmi10&store=tyy%2F4io&srno=s_1_17&otracker=search&fm=organic&iid=bac2d21d-ba79-47d7-b941-4e15fef3db5a.MOBGHFFTSH6QXG5K.SEARCH&ppt=None&ppn=None&ssid=kajf9q1feo0000001679850766598&qH=564aedd694e34df8\n",
      "https://www.flipkart.com/redmi-note-10s-frost-white-64-gb/p/itm2059d1d0cfd67?pid=MOBGAHD8TKZGPYJW&lid=LSTMOBGAHD8TKZGPYJWSOATOH&marketplace=FLIPKART&q=redmi10&store=tyy%2F4io&srno=s_1_18&otracker=search&fm=organic&iid=bac2d21d-ba79-47d7-b941-4e15fef3db5a.MOBGAHD8TKZGPYJW.SEARCH&ppt=None&ppn=None&ssid=kajf9q1feo0000001679850766598&qH=564aedd694e34df8\n",
      "https://www.flipkart.com/redmi-10-power-sporty-orange-128-gb/p/itm97f5d2ec83588?pid=MOBGHDXFV9PCSYXV&lid=LSTMOBGHDXFV9PCSYXVBPEFSO&marketplace=FLIPKART&q=redmi10&store=tyy%2F4io&srno=s_1_19&otracker=search&fm=organic&iid=bac2d21d-ba79-47d7-b941-4e15fef3db5a.MOBGHDXFV9PCSYXV.SEARCH&ppt=None&ppn=None&ssid=kajf9q1feo0000001679850766598&qH=564aedd694e34df8\n",
      "https://www.flipkart.com/redmi-9i-sport-carbon-black-64-gb/p/itm4559197007bd1?pid=MOBG6WQWRGRRDBH6&lid=LSTMOBG6WQWRGRRDBH6BCUNBA&marketplace=FLIPKART&q=redmi10&store=tyy%2F4io&srno=s_1_20&otracker=search&fm=organic&iid=bac2d21d-ba79-47d7-b941-4e15fef3db5a.MOBG6WQWRGRRDBH6.SEARCH&ppt=None&ppn=None&ssid=kajf9q1feo0000001679850766598&qH=564aedd694e34df8\n",
      "https://www.flipkart.com/redmi-note-11s-space-black-128-gb/p/itmd5a2c088fa559?pid=MOBGHDXFEPHGSHT2&lid=LSTMOBGHDXFEPHGSHT22OGNYD&marketplace=FLIPKART&q=redmi10&store=tyy%2F4io&srno=s_1_21&otracker=search&fm=organic&iid=bac2d21d-ba79-47d7-b941-4e15fef3db5a.MOBGHDXFEPHGSHT2.SEARCH&ppt=None&ppn=None&ssid=kajf9q1feo0000001679850766598&qH=564aedd694e34df8\n",
      "https://www.flipkart.com/redmi-10a-sport-slate-grey-128-gb/p/itm6482ef8ffd222?pid=MOBGHDXF4EZSEMHR&lid=LSTMOBGHDXF4EZSEMHR4SZPVV&marketplace=FLIPKART&q=redmi10&store=tyy%2F4io&srno=s_1_22&otracker=search&fm=organic&iid=bac2d21d-ba79-47d7-b941-4e15fef3db5a.MOBGHDXF4EZSEMHR.SEARCH&ppt=None&ppn=None&ssid=kajf9q1feo0000001679850766598&qH=564aedd694e34df8\n",
      "https://www.flipkart.com/redmi-10a-sport-sea-blue-128-gb/p/itm6482ef8ffd222?pid=MOBGHDXFQDHSPYVX&lid=LSTMOBGHDXFQDHSPYVXH0S8JZ&marketplace=FLIPKART&q=redmi10&store=tyy%2F4io&srno=s_1_23&otracker=search&fm=organic&iid=bac2d21d-ba79-47d7-b941-4e15fef3db5a.MOBGHDXFQDHSPYVX.SEARCH&ppt=None&ppn=None&ssid=kajf9q1feo0000001679850766598&qH=564aedd694e34df8\n",
      "https://www.flipkart.com/redmi-10a-sport-charcoal-black-128-gb/p/itm6482ef8ffd222?pid=MOBGHDXFR9GKHVCE&lid=LSTMOBGHDXFR9GKHVCEE4Z2PM&marketplace=FLIPKART&q=redmi10&store=tyy%2F4io&srno=s_1_24&otracker=search&fm=organic&iid=bac2d21d-ba79-47d7-b941-4e15fef3db5a.MOBGHDXFR9GKHVCE.SEARCH&ppt=None&ppn=None&ssid=kajf9q1feo0000001679850766598&qH=564aedd694e34df8\n"
     ]
    },
    {
     "ename": "AttributeError",
     "evalue": "'NoneType' object has no attribute 'a'",
     "output_type": "error",
     "traceback": [
      "\u001b[0;31m---------------------------------------------------------------------------\u001b[0m",
      "\u001b[0;31mAttributeError\u001b[0m                            Traceback (most recent call last)",
      "Cell \u001b[0;32mIn[50], line 2\u001b[0m\n\u001b[1;32m      1\u001b[0m \u001b[38;5;28;01mfor\u001b[39;00m i \u001b[38;5;129;01min\u001b[39;00m bigbox:\n\u001b[0;32m----> 2\u001b[0m     \u001b[38;5;28mprint\u001b[39m(\u001b[38;5;124m\"\u001b[39m\u001b[38;5;124mhttps://www.flipkart.com\u001b[39m\u001b[38;5;124m\"\u001b[39m\u001b[38;5;241m+\u001b[39m\u001b[43mi\u001b[49m\u001b[38;5;241;43m.\u001b[39;49m\u001b[43mdiv\u001b[49m\u001b[38;5;241;43m.\u001b[39;49m\u001b[43mdiv\u001b[49m\u001b[38;5;241;43m.\u001b[39;49m\u001b[43mdiv\u001b[49m\u001b[38;5;241;43m.\u001b[39;49m\u001b[43ma\u001b[49m[\u001b[38;5;124m'\u001b[39m\u001b[38;5;124mhref\u001b[39m\u001b[38;5;124m'\u001b[39m])\n",
      "\u001b[0;31mAttributeError\u001b[0m: 'NoneType' object has no attribute 'a'"
     ]
    }
   ],
   "source": [
    "for i in bigbox:\n",
    "    print(\"https://www.flipkart.com\"+i.div.div.div.a['href'])"
   ]
  },
  {
   "cell_type": "code",
   "execution_count": null,
   "id": "baa08da2-b978-45e8-84d3-59037867d6f2",
   "metadata": {},
   "outputs": [],
   "source": []
  },
  {
   "cell_type": "code",
   "execution_count": null,
   "id": "dfbb63c8-5c4f-40bf-b6d2-146161cd29bf",
   "metadata": {},
   "outputs": [],
   "source": []
  },
  {
   "cell_type": "code",
   "execution_count": null,
   "id": "b2cc2b39-5099-4e33-8200-bcbc8adcab1b",
   "metadata": {},
   "outputs": [],
   "source": []
  }
 ],
 "metadata": {
  "kernelspec": {
   "display_name": "Python 3 (ipykernel)",
   "language": "python",
   "name": "python3"
  },
  "language_info": {
   "codemirror_mode": {
    "name": "ipython",
    "version": 3
   },
   "file_extension": ".py",
   "mimetype": "text/x-python",
   "name": "python",
   "nbconvert_exporter": "python",
   "pygments_lexer": "ipython3",
   "version": "3.10.8"
  }
 },
 "nbformat": 4,
 "nbformat_minor": 5
}
